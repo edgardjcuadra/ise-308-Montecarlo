{
 "cells": [
  {
   "cell_type": "code",
   "execution_count": 1,
   "metadata": {},
   "outputs": [],
   "source": [
    "# loading the Montecarlo Raw Data\n",
    "import numpy as np\n",
    "import matplotlib.pyplot as plt\n",
    "import pandas as pd\n",
    "\n"
   ]
  },
  {
   "cell_type": "code",
   "execution_count": 2,
   "metadata": {},
   "outputs": [
    {
     "name": "stdout",
     "output_type": "stream",
     "text": [
      "        Date  Avg Temp  kWh Delivered to Customer  Month Seasson  \\\n",
      "0 2022-01-01        50                     39.708      1  Winter   \n",
      "1 2022-01-02        47                     31.517      1  Winter   \n",
      "2 2022-01-03        27                     39.497      1  Winter   \n",
      "3 2022-01-04        24                     41.692      1  Winter   \n",
      "4 2022-01-05        31                     34.216      1  Winter   \n",
      "\n",
      "   hours of light  \n",
      "0        9.380556  \n",
      "1        9.393056  \n",
      "2        9.406667  \n",
      "3        9.421111  \n",
      "4        9.436667      Year  2024-01-21 00:00:00\n",
      "0  2024                19.44\n",
      "1  2023                35.96\n",
      "2  2022                15.88\n",
      "3  2021                29.25\n",
      "4  2020                24.38         Date  Week Month  hrs of light  Watts_panel_hrlight  Watts produced  \\\n",
      "0 2023-01-01  Wk01   Jan      9.380556            67.328523      631.578947   \n",
      "1 2023-01-02  Wk01   Jan      9.393056            22.973299      215.789474   \n",
      "2 2023-01-03  Wk01   Jan      9.406667             8.952218       84.210526   \n",
      "3 2023-01-04  Wk01   Jan      9.421111            39.664558      373.684211   \n",
      "4 2023-01-05  Wk01   Jan      9.436667            38.762572      365.789474   \n",
      "\n",
      "   Season  Sun raise angle  Sun Dawn Angle  Distance To Sun  Sun Angle  \\\n",
      "0  Winter              121             241           91.406       26.4   \n",
      "1  Winter              121             241           91.404       26.5   \n",
      "2  Winter              121             241           91.403       26.6   \n",
      "3  Winter              121             241           91.403       26.7   \n",
      "4  Winter              121             241           91.403       26.8   \n",
      "\n",
      "  Weather Coded  \n",
      "0       Average  \n",
      "1           Bad  \n",
      "2   Extreme Bad  \n",
      "3           Bad  \n",
      "4           Bad  \n"
     ]
    }
   ],
   "source": [
    "# Load the excel data into a pandas dataframe\n",
    "df1 = pd.read_excel('Montecarlo Raw Data.xlsx', sheet_name='Energy Consumption Raw Data') \n",
    "df2 = pd.read_excel('Montecarlo Raw Data.xlsx', sheet_name='Daily Temp Average')\n",
    "df3 = pd.read_excel('Montecarlo Raw Data.xlsx', sheet_name='Energy Production')\n",
    "\n",
    "print(df1.head(), df2.head(), df3.head())\n"
   ]
  },
  {
   "cell_type": "code",
   "execution_count": 3,
   "metadata": {},
   "outputs": [
    {
     "name": "stdout",
     "output_type": "stream",
     "text": [
      "Index(['Date', 'Avg Temp', 'kWh Delivered to Customer', 'Month', 'Season',\n",
      "       'hours of light'],\n",
      "      dtype='object')\n",
      "Index(['Year', 2024-01-21 00:00:00], dtype='object')\n",
      "Index(['Date', 'Week', 'Month', 'hrs of light', 'Watts_panel_hrlight',\n",
      "       'Watts produced', 'Season', 'Sun raise angle', 'Sun Dawn Angle',\n",
      "       'Distance To Sun', 'Sun Angle', 'Weather Coded'],\n",
      "      dtype='object')\n"
     ]
    }
   ],
   "source": [
    "# renaming the 'hours of light column in df1 to hrs of light\n",
    "df1.rename(columns = {'hours of Light':'hrs of light'}, inplace = True) \n",
    "df1.rename(columns = {'Seasson':'Season'}, inplace = True)\n",
    "print(df1.columns)\n",
    "print(df2.columns)\n",
    "print(df3.columns)\n"
   ]
  },
  {
   "cell_type": "code",
   "execution_count": 4,
   "metadata": {},
   "outputs": [
    {
     "name": "stdout",
     "output_type": "stream",
     "text": [
      "Weather variability: {'Good': 0.32132963988919666, 'Average': 0.29916897506925205, 'Bad': 0.2631578947368421, 'Extreme Bad': 0.05817174515235457, 'Excellent': 0.05817174515235457}\n",
      "Hours of light mean: 12.218682648401826, Hours of light std: 1.9910343886540398\n",
      "Power demand mean: 37.00345479452055, Power demand std: 11.750855324550965\n",
      "Watts produced mean: 973.6898781503262, Watts produced std: 521.9841339097212\n",
      "Solar generation mean: 76.74597972459313, Solar generation std: 34.86242004578992\n",
      "Watts per panel per hour of light mean: 76.74597972459313, Watts per panel per hour of light std: 34.86242004578992\n"
     ]
    }
   ],
   "source": [
    "# Get statistics from power demand\n",
    "power_demand_mean = df1['kWh Delivered to Customer'].mean()\n",
    "power_demand_std = df1['kWh Delivered to Customer'].std()\n",
    "\n",
    "\n",
    "# get statistics from solar generation\n",
    "watts_produced_mean = df3['Watts produced'].mean()\n",
    "watts_produced_std = df3['Watts produced'].std()\n",
    "solar_generation_mean = df3['Watts_panel_hrlight'].mean()\n",
    "solar_generation_std = df3['Watts_panel_hrlight'].std()\n",
    "\n",
    "\n",
    "watts_per_panel_hrlight_mean = df3['Watts_panel_hrlight'].mean()\n",
    "watts_per_panel_hrlight_std = df3['Watts_panel_hrlight'].std()\n",
    "\n",
    "# calculating weather variability\n",
    "weather_variability = df3['Weather Coded'].value_counts(normalize=True).to_dict()\n",
    "\n",
    "# get hrs_of_light statistics\n",
    "hrs_of_light_mean = df1['hours of light'].mean()\n",
    "hrs_of_light_std = df1['hours of light'].std()\n",
    "\n",
    "\n",
    "print(f'Weather variability: {weather_variability}')\n",
    "print(f'Hours of light mean: {hrs_of_light_mean}, Hours of light std: {hrs_of_light_std}')\n",
    "print(f'Power demand mean: {power_demand_mean}, Power demand std: {power_demand_std}')\n",
    "print(f'Watts produced mean: {watts_produced_mean}, Watts produced std: {watts_produced_std}')\n",
    "print(f'Solar generation mean: {solar_generation_mean}, Solar generation std: {solar_generation_std}')\n",
    "print(f'Watts per panel per hour of light mean: {watts_per_panel_hrlight_mean}, Watts per panel per hour of light std: {watts_per_panel_hrlight_std}')"
   ]
  },
  {
   "cell_type": "markdown",
   "metadata": {},
   "source": [
    "## WIP"
   ]
  },
  {
   "cell_type": "code",
   "execution_count": 5,
   "metadata": {},
   "outputs": [
    {
     "name": "stdout",
     "output_type": "stream",
     "text": [
      "{1: 34.9531935483871, 2: 34.827, 3: 36.24677419354839, 4: 32.42856666666667, 5: 35.98170967741935, 6: 29.814733333333333, 7: 54.799741935483866, 8: 53.99070967741935, 9: 41.987899999999996, 10: 34.16309677419355, 11: 28.7148, 12: 25.436548387096774}\n",
      "37.00345479452055\n"
     ]
    }
   ],
   "source": [
    "# figuring out the factor for each month\n",
    "mean_power_per_month = df1.groupby('Month')['kWh Delivered to Customer'].mean()\n",
    "mean_power_per_month = mean_power_per_month.to_dict()\n",
    "print(mean_power_per_month)\n",
    "\n",
    "# Need to get the total average for all the months\n",
    "total_power_demand = df1['kWh Delivered to Customer'].mean()\n",
    "print(total_power_demand)\n",
    "\n",
    "# setting the value of the mean power per month factor as the average power demand for each mont divided by the overall power demand.\n"
   ]
  },
  {
   "cell_type": "code",
   "execution_count": 6,
   "metadata": {},
   "outputs": [
    {
     "data": {
      "text/plain": [
       "{1: 0.9445927074237118,\n",
       " 2: 0.9411823894118437,\n",
       " 3: 0.9795510823199078,\n",
       " 4: 0.8763659189862637,\n",
       " 5: 0.9723878453302556,\n",
       " 6: 0.8057283704695671,\n",
       " 7: 1.4809358272027773,\n",
       " 8: 1.4590721319733169,\n",
       " 9: 1.1347021577622407,\n",
       " 10: 0.9232407342476681,\n",
       " 11: 0.7760032180630894,\n",
       " 12: 0.6874100953098953}"
      ]
     },
     "execution_count": 6,
     "metadata": {},
     "output_type": "execute_result"
    }
   ],
   "source": [
    "# We need to get a factor from the average power demand for each month\n",
    "# We will use this factor to scale the power demand for each month\n",
    "# This will allow us to simulate the power demand for each month\n",
    "# based on the average power demand for that month\n",
    "# The factor is the average power demand for each month divided by the overall average power demand\n",
    "factor_per_month = df1.groupby('Month')['kWh Delivered to Customer'].mean() / total_power_demand\n",
    "factor_per_month = factor_per_month.to_dict()\n",
    "factor_per_month"
   ]
  },
  {
   "cell_type": "markdown",
   "metadata": {},
   "source": [
    "## Montecarlo"
   ]
  },
  {
   "cell_type": "code",
   "execution_count": 7,
   "metadata": {},
   "outputs": [
    {
     "name": "stdout",
     "output_type": "stream",
     "text": [
      "{'Good': 0.32132963988919666, 'Average': 0.29916897506925205, 'Bad': 0.2631578947368421, 'Extreme Bad': 0.05817174515235457, 'Excellent': 0.05817174515235457}\n",
      "{'Excellent': 1.1, 'Good': 0.9, 'Average': 0.8, 'Bad': 0.6, 'Extreme Bad': 0.5}\n"
     ]
    }
   ],
   "source": [
    "# unique values in the df3['Weather Coded'] column\n",
    "df3['Weather Coded'].unique()\n",
    "weather_variability = df3['Weather Coded'].value_counts(normalize=True).to_dict()\n",
    "print(weather_variability)\n",
    "weather_multiplier = {\n",
    "    'Excellent': 1.1,\n",
    "    'Good': 0.9,\n",
    "    'Average': 0.8,\n",
    "    'Bad': 0.6,\n",
    "    'Extreme Bad': 0.5,\n",
    "}\n",
    "print(weather_multiplier)"
   ]
  },
  {
   "cell_type": "code",
   "execution_count": 8,
   "metadata": {},
   "outputs": [
    {
     "data": {
      "text/plain": [
       "array([0.32132964, 0.29916898, 0.26315789, 0.05817175, 0.05817175])"
      ]
     },
     "execution_count": 8,
     "metadata": {},
     "output_type": "execute_result"
    }
   ],
   "source": [
    "# Ensure weather probabilities sum to 1\n",
    "weather_probabilities = np.array(list(weather_variability.values()))\n",
    "weather_probabilities /= weather_probabilities.sum()  \n",
    "weather_probabilities"
   ]
  },
  {
   "cell_type": "code",
   "execution_count": 10,
   "metadata": {},
   "outputs": [],
   "source": [
    "\n",
    "## Chat gpt code\n",
    "# Define simulation parameters\n",
    "num_simulations = 1000  # Iterations\n",
    "years = 30  # Time Horizon\n",
    "\n",
    "# Running the Monte Carlo simulation\n",
    "net_power_results = []\n",
    "panel_requirements = []\n",
    "panel_distributions = [] # Store panels \n",
    "\n",
    "for _ in range(num_simulations):\n",
    "    total_power_needed = 0\n",
    "    total_solar_produced = 0\n",
    "    total_panels_required = 0 \n",
    "    yearly_panels_required = [] # per year panels\n",
    "\n",
    "    for year in range(years):\n",
    "        yearly_power_needed = 0\n",
    "        yearly_solar_produced = 0\n",
    "        for month in range(1, 13):\n",
    "            # Simulate power demand per month\n",
    "            base_demand = np.random.normal(power_demand_mean, power_demand_std)\n",
    "            month_adjusted_demand = base_demand * factor_per_month[month]  \n",
    "            demand = month_adjusted_demand\n",
    "            yearly_power_needed += demand\n",
    "            \n",
    "            # Simulate sunlight hours and efficiency\n",
    "            hrs_of_light = np.random.normal(hrs_of_light_mean, hrs_of_light_std)\n",
    "            panel_efficiency = np.random.normal(watts_per_panel_hrlight_mean, watts_per_panel_hrlight_std)\n",
    "\n",
    "            # Simulate weather type for the month\n",
    "            weather_effect = np.random.choice(list(weather_variability.keys()), p=list(weather_variability.values()))\n",
    "            weather_multiplier_effect = weather_multiplier[weather_effect]\n",
    "            \n",
    "            # Compute adjusted solar generation per panel\n",
    "            adjusted_generation = (panel_efficiency * hrs_of_light * weather_multiplier_effect * factor_per_month[month])\n",
    "            yearly_solar_produced += adjusted_generation\n",
    "\n",
    "        # Compute total required panels annually\n",
    "        total_net_power = (yearly_solar_produced / yearly_power_needed) * 100\n",
    "        panels_needed = np.ceil(110 / total_net_power)\n",
    "        \n",
    "\n",
    "\n",
    "        yearly_panels_required.append(panels_needed)\n",
    "\n",
    "        # accumulate yearly data\n",
    "        total_power_needed += yearly_power_needed\n",
    "        total_solar_produced += yearly_solar_produced\n",
    "        # total_panels_required += panels_needed\n",
    "\n",
    "    # store entire panel distribution\n",
    "\n",
    "    panel_distributions.append(yearly_panels_required)\n",
    "    \n",
    "\n",
    "# Convert panel_distributions to dictionary\n",
    "\n",
    "\n",
    "# panel_dict = {item: panel_distributions.count(item) for item in set(panel_distributions)}\n",
    "# panel_dict\n",
    "panel_distributions = np.array(panel_distributions)\n",
    "\n",
    "\n",
    "# net_power_results = np.array(net_power_results)\n",
    "# panel_requirements = np.array(panel_requirements)\n"
   ]
  },
  {
   "cell_type": "code",
   "execution_count": 11,
   "metadata": {},
   "outputs": [
    {
     "data": {
      "image/png": "[encoded data removed]",
      "text/plain": [
       "<Figure size 640x480 with 1 Axes>"
      ]
     },
     "metadata": {},
     "output_type": "display_data"
    },
    {
     "name": "stdout",
     "output_type": "stream",
     "text": [
      "Estimated Mean Panels Required: 1.0\n",
      "Estimated 95% Confidence Interval: 1.00 - 1.00\n"
     ]
    }
   ],
   "source": [
    "all_panels = panel_distributions.flatten()\n",
    "# Plot histogram of panel requirements\n",
    "plt.hist(all_panels, bins=50, alpha=0.7, color='green', edgecolor='black')\n",
    "plt.xlabel(\"Number of Panels Required Over 30 Years\")\n",
    "plt.ylabel(\"Frequency\")\n",
    "plt.title(\"Monte Carlo Simulation: Panel Requirements Distribution\")\n",
    "plt.show()\n",
    "\n",
    "# Print statistical summary\n",
    "print(f'Estimated Mean Panels Required: {np.mean(all_panels)}')\n",
    "print(f'Estimated 95% Confidence Interval: {np.percentile(all_panels,2.5):.2f} - {np.percentile(all_panels,97.5):.2f}')"
   ]
  },
  {
   "cell_type": "code",
   "execution_count": 12,
   "metadata": {},
   "outputs": [
    {
     "data": {
      "image/png": "[encoded data removed]",
      "text/plain": [
       "<Figure size 640x480 with 1 Axes>"
      ]
     },
     "metadata": {},
     "output_type": "display_data"
    },
    {
     "name": "stdout",
     "output_type": "stream",
     "text": [
      "Estimated Mean Panels Required: 12.273\n",
      "Estimated 95% Confidence Interval: 12.00 - 15.00\n"
     ]
    }
   ],
   "source": [
    "## Previous version\n",
    "\n",
    "# Define simulation parameters\n",
    "num_simulations = 1000 # iters\n",
    "years = 30 # time\n",
    "\n",
    "# running the monte carlo simulation\n",
    "net_power_results = []\n",
    "panel_requirements = []\n",
    "\n",
    "for _ in range(num_simulations):\n",
    "    total_power_needed = 0\n",
    "    total_solar_produced = 0\n",
    "    total_panels_required = 0 \n",
    "    for year in range(years):\n",
    "        panels_required = []\n",
    "        for month in range(1, 13):\n",
    "            # Simulate power demand per year\n",
    "            demand = np.random.normal(power_demand_mean, power_demand_std)\n",
    "            \n",
    "            # Simulate sunlight hours and efficiency\n",
    "            hrs_of_light = np.random.normal(hrs_of_light_mean, hrs_of_light_std)\n",
    "            panel_efficiency = np.random.normal(watts_per_panel_hrlight_mean, watts_per_panel_hrlight_std)\n",
    "            \n",
    "            # Weather impact: randomly choose a multiplier (e.g., 0.8 for cloudy, 1.2 for clear skies)\n",
    "            weather_effect = np.random.choice(list(weather_variability.keys()), p=list(weather_variability.values()))\n",
    "            # weather_effect = \n",
    "            # weather_multiplier = weather_multiplier[weather_effect]\n",
    "            # weather_multiplier = 1.2 if weather_effect in [\"Clear\"] else 0.8 if weather_effect in [\"Cloudy\"] else 1.0 # add cases or a dictionary to take the weather multiplier randomly at a normal dist\n",
    "            \n",
    "            # Compute adjusted solar generation per panel\n",
    "            adjusted_generation = (panel_efficiency * hrs_of_light * weather_multiplier[weather_effect] * factor_per_month[month])  # NEED TO ADD THE MONTHLY FACTOR HERE\n",
    "            \n",
    "            # Compute required panels to meet 110% of power demand\n",
    "            net_power = (adjusted_generation / demand) * 100  # Percentage -- adding the \n",
    "            panels_needed = np.ceil((110 / net_power))  # Adjust for requirement\n",
    "\n",
    "            # adjusting for nevative panels\n",
    "            panels_needed = max(1, panels_needed) # ensuring that I have at least 1 panel -- can delete for negative panels\n",
    "            \n",
    "            total_power_needed += demand\n",
    "            total_solar_produced += adjusted_generation\n",
    "            # total_panels_required += panels_needed\n",
    "            panels_required.append(panels_needed)\n",
    "            # total_panels_required += sum(panels_required)\n",
    "        \n",
    "    net_power_results.append(total_solar_produced)\n",
    "    panel_requirements.append(sum(panels_required))\n",
    "\n",
    "# Convert results to numpy arrays\n",
    "net_power_results = np.array(net_power_results)\n",
    "panel_requirements = np.array(panel_requirements)\n",
    "\n",
    "# Plot histogram of panel requirements\n",
    "plt.hist(panel_requirements, bins=50, alpha=0.7, color='green', edgecolor='black')\n",
    "plt.xlabel(\"Number of Panels Required Over 30 Years\")\n",
    "plt.ylabel(\"Frequency\")\n",
    "plt.title(\"Monte Carlo Simulation: Panel Requirements Distribution\")\n",
    "plt.show()\n",
    "\n",
    "print(f'Estimated Mean Panels Required: {np.mean(panel_requirements)}')\n",
    "print(f'Estimated 95% Confidence Interval: {np.percentile(panel_requirements,2.5):.2f} - {np.percentile(panel_requirements,97.5):.2f}')"
   ]
  },
  {
   "cell_type": "code",
   "execution_count": null,
   "metadata": {},
   "outputs": [],
   "source": []
  },
  {
   "cell_type": "code",
   "execution_count": null,
   "metadata": {},
   "outputs": [],
   "source": []
  }
 ],
 "metadata": {
  "kernelspec": {
   "display_name": "Python 3",
   "language": "python",
   "name": "python3"
  },
  "language_info": {
   "codemirror_mode": {
    "name": "ipython",
    "version": 3
   },
   "file_extension": ".py",
   "mimetype": "text/x-python",
   "name": "python",
   "nbconvert_exporter": "python",
   "pygments_lexer": "ipython3",
   "version": "3.12.2"
  }
 },
 "nbformat": 4,
 "nbformat_minor": 2
}
