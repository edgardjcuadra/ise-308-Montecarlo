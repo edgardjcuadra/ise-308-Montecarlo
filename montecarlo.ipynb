{
 "cells": [
  {
   "cell_type": "code",
   "execution_count": 1,
   "metadata": {},
   "outputs": [],
   "source": [
    "# loading the Montecarlo Raw Data\n",
    "import numpy as np\n",
    "import matplotlib.pyplot as plt\n",
    "import pandas as pd\n",
    "\n"
   ]
  },
  {
   "cell_type": "code",
   "execution_count": 2,
   "metadata": {},
   "outputs": [
    {
     "name": "stdout",
     "output_type": "stream",
     "text": [
      "        Date  Avg Temp  kWh Delivered to Customer  Month Seasson  \\\n",
      "0 2022-01-01        50                     39.708      1  Winter   \n",
      "1 2022-01-02        47                     31.517      1  Winter   \n",
      "2 2022-01-03        27                     39.497      1  Winter   \n",
      "3 2022-01-04        24                     41.692      1  Winter   \n",
      "4 2022-01-05        31                     34.216      1  Winter   \n",
      "\n",
      "   hours of light  \n",
      "0        9.380556  \n",
      "1        9.393056  \n",
      "2        9.406667  \n",
      "3        9.421111  \n",
      "4        9.436667      Year  2024-01-21 00:00:00\n",
      "0  2024                19.44\n",
      "1  2023                35.96\n",
      "2  2022                15.88\n",
      "3  2021                29.25\n",
      "4  2020                24.38         Date  Week Month  hrs of light  Watts_panel_hrlight  Watts produced  \\\n",
      "0 2023-01-01  Wk01   Jan      9.380556            67.328523      631.578947   \n",
      "1 2023-01-02  Wk01   Jan      9.393056            22.973299      215.789474   \n",
      "2 2023-01-03  Wk01   Jan      9.406667             8.952218       84.210526   \n",
      "3 2023-01-04  Wk01   Jan      9.421111            39.664558      373.684211   \n",
      "4 2023-01-05  Wk01   Jan      9.436667            38.762572      365.789474   \n",
      "\n",
      "   Season  Sun raise angle  Sun Dawn Angle  Distance To Sun  Sun Angle  \\\n",
      "0  Winter              121             241           91.406       26.4   \n",
      "1  Winter              121             241           91.404       26.5   \n",
      "2  Winter              121             241           91.403       26.6   \n",
      "3  Winter              121             241           91.403       26.7   \n",
      "4  Winter              121             241           91.403       26.8   \n",
      "\n",
      "  Weather Coded  \n",
      "0       Average  \n",
      "1           Bad  \n",
      "2   Extreme Bad  \n",
      "3           Bad  \n",
      "4           Bad  \n"
     ]
    }
   ],
   "source": [
    "# Load the excel data into a pandas dataframe\n",
    "df1 = pd.read_excel('Montecarlo Raw Data.xlsx', sheet_name='Energy Consumption Raw Data') \n",
    "df2 = pd.read_excel('Montecarlo Raw Data.xlsx', sheet_name='Daily Temp Average')\n",
    "df3 = pd.read_excel('Montecarlo Raw Data.xlsx', sheet_name='Energy Production')\n",
    "\n",
    "print(df1.head(), df2.head(), df3.head())\n"
   ]
  },
  {
   "cell_type": "code",
   "execution_count": 3,
   "metadata": {},
   "outputs": [
    {
     "name": "stdout",
     "output_type": "stream",
     "text": [
      "Index(['Date', 'Avg Temp', 'kWh Delivered to Customer', 'Month', 'Season',\n",
      "       'hours of light'],\n",
      "      dtype='object')\n",
      "Index(['Year', 2024-01-21 00:00:00], dtype='object')\n",
      "Index(['Date', 'Week', 'Month', 'hrs of light', 'Watts_panel_hrlight',\n",
      "       'Watts produced', 'Season', 'Sun raise angle', 'Sun Dawn Angle',\n",
      "       'Distance To Sun', 'Sun Angle', 'Weather Coded'],\n",
      "      dtype='object')\n"
     ]
    }
   ],
   "source": [
    "# renaming the 'hours of light column in df1 to hrs of light\n",
    "df1.rename(columns = {'hours of Light':'hrs of light'}, inplace = True) \n",
    "df1.rename(columns = {'Seasson':'Season'}, inplace = True)\n",
    "print(df1.columns)\n",
    "print(df2.columns)\n",
    "print(df3.columns)\n"
   ]
  },
  {
   "cell_type": "code",
   "execution_count": null,
   "metadata": {},
   "outputs": [
    {
     "name": "stdout",
     "output_type": "stream",
     "text": [
      "Weather variability: {'Good': 0.32132963988919666, 'Average': 0.29916897506925205, 'Bad': 0.2631578947368421, 'Extreme Bad': 0.05817174515235457, 'Excellent': 0.05817174515235457}\n",
      "Hours of light mean: 12.218682648401826, Hours of light std: 1.9910343886540398\n",
      "Power demand mean: 37.00345479452055, Power demand std: 11.750855324550965\n",
      "Watts produced mean: 973.6898781503262, Watts produced std: 521.9841339097212\n",
      "Solar generation mean: 76.74597972459313, Solar generation std: 34.86242004578992\n",
      "Watts per panel per hour of light mean: 76.74597972459313, Watts per panel per hour of light std: 34.86242004578992\n"
     ]
    }
   ],
   "source": [
    "# Define simulation parameters\n",
    "num_simulations = 1000 # iters\n",
    "years = 30 # time\n",
    "\n",
    "# Get statistics from power demand\n",
    "power_demand_mean = df1['kWh Delivered to Customer'].mean()\n",
    "power_demand_std = df1['kWh Delivered to Customer'].std()\n",
    "\n",
    "\n",
    "# get statistics from solar generation\n",
    "watts_produced_mean = df3['Watts produced'].mean()\n",
    "watts_produced_std = df3['Watts produced'].std()\n",
    "solar_generation_mean = df3['Watts_panel_hrlight'].mean()\n",
    "solar_generation_std = df3['Watts_panel_hrlight'].std()\n",
    "\n",
    "\n",
    "watts_per_panel_hrlight_mean = df3['Watts_panel_hrlight'].mean()\n",
    "watts_per_panel_hrlight_std = df3['Watts_panel_hrlight'].std()\n",
    "\n",
    "# calculating weather variability\n",
    "weather_variability = df3['Weather Coded'].value_counts(normalize=True).to_dict()\n",
    "\n",
    "# get hrs_of_light statistics\n",
    "hrs_of_light_mean = df1['hours of light'].mean()\n",
    "hrs_of_light_std = df1['hours of light'].std()\n",
    "\n",
    "\n",
    "print(f'Weather variability: {weather_variability}')\n",
    "print(f'Hours of light mean: {hrs_of_light_mean}, Hours of light std: {hrs_of_light_std}')\n",
    "print(f'Power demand mean: {power_demand_mean}, Power demand std: {power_demand_std}')\n",
    "print(f'Watts produced mean: {watts_produced_mean}, Watts produced std: {watts_produced_std}')\n",
    "print(f'Solar generation mean: {solar_generation_mean}, Solar generation std: {solar_generation_std}')\n",
    "print(f'Watts per panel per hour of light mean: {watts_per_panel_hrlight_mean}, Watts per panel per hour of light std: {watts_per_panel_hrlight_std}')"
   ]
  },
  {
   "cell_type": "code",
   "execution_count": null,
   "metadata": {},
   "outputs": [
    {
     "name": "stdout",
     "output_type": "stream",
     "text": [
      "{1: 34.9531935483871, 2: 34.827, 3: 36.24677419354839, 4: 32.42856666666667, 5: 35.98170967741935, 6: 29.814733333333333, 7: 54.799741935483866, 8: 53.99070967741935, 9: 41.987899999999996, 10: 34.16309677419355, 11: 28.7148, 12: 25.436548387096774}\n"
     ]
    }
   ],
   "source": [
    "# figuring out the factor for each month\n",
    "mean_power_per_month = df1.groupby('Month')['kWh Delivered to Customer'].mean()\n",
    "mean_power_per_month = mean_power_per_month.to_dict()\n",
    "print(mean_power_per_month)\n",
    "\n",
    "# setting the value of the mean power per month factor as the average power demand for each mont divided by the overall power demand.\n"
   ]
  },
  {
   "cell_type": "code",
   "execution_count": null,
   "metadata": {},
   "outputs": [],
   "source": [
    "# We need to get a factor from the average power demand for each month\n",
    "# We will use this factor to scale the power demand for each month\n",
    "# This will allow us to simulate the power demand for each month\n",
    "# based on the average power demand for that month\n",
    "# The factor is the average power demand for each month divided by the overall average power demand\n"
   ]
  },
  {
   "cell_type": "code",
   "execution_count": null,
   "metadata": {},
   "outputs": [],
   "source": [
    "# seasonal/monthly power demand factors\n",
    "month_factor = {1:,2:,3:,4:,5:,6:,7:,8:,9:,10:,11:,12:}"
   ]
  },
  {
   "cell_type": "code",
   "execution_count": null,
   "metadata": {},
   "outputs": [
    {
     "data": {
      "image/png": "[encoded data removed]",
      "text/plain": [
       "<Figure size 640x480 with 1 Axes>"
      ]
     },
     "metadata": {},
     "output_type": "display_data"
    },
    {
     "name": "stdout",
     "output_type": "stream",
     "text": [
      "Estimated Mean Panels Required: 30.402\n",
      "Estimated 95% Confidence Interval: 30.00 - 33.00\n"
     ]
    }
   ],
   "source": [
    "# running the monte carlo simulation\n",
    "net_power_results = []\n",
    "panel_requirements = []\n",
    "\n",
    "for _ in range(num_simulations):\n",
    "    total_power_needed = 0\n",
    "    total_solar_produced = 0\n",
    "    total_panels_required = 0\n",
    "    \n",
    "    for year in range(years):\n",
    "                                # add another nested loop for each month\n",
    "        # Simulate power demand per year\n",
    "        demand = np.random.normal(power_demand_mean, power_demand_std)\n",
    "        \n",
    "        # Simulate sunlight hours and efficiency\n",
    "        hrs_of_light = np.random.normal(hrs_of_light_mean, hrs_of_light_std)\n",
    "        panel_efficiency = np.random.normal(watts_per_panel_hrlight_mean, watts_per_panel_hrlight_std)\n",
    "        \n",
    "        # Weather impact: randomly choose a multiplier (e.g., 0.8 for cloudy, 1.2 for clear skies)\n",
    "        weather_effect = np.random.choice(list(weather_variability.keys()), p=list(weather_variability.values()))\n",
    "        weather_multiplier = 1.2 if weather_effect in [\"Clear\"] else 0.8 if weather_effect in [\"Cloudy\"] else 1.0\n",
    "        \n",
    "        # Compute adjusted solar generation per panel\n",
    "        adjusted_generation = (panel_efficiency * hrs_of_light * weather_multiplier)  # NEED TO ADD THE MONTHLY FACTOR HERE\n",
    "        \n",
    "        # Compute required panels to meet 110% of power demand\n",
    "        net_power = (adjusted_generation / demand) * 100  # Percentage -- adding the \n",
    "        panels_needed = np.ceil((110 / net_power))  # Adjust for requirement\n",
    "\n",
    "        # adjusting for nevative panels\n",
    "        panels_needed = max(1, panels_needed) # ensuring that I have at least 1 panel -- can delete for negative panels\n",
    "        \n",
    "        total_power_needed += demand\n",
    "        total_solar_produced += adjusted_generation\n",
    "        total_panels_required += panels_needed\n",
    "    \n",
    "    net_power_results.append(total_solar_produced)\n",
    "    panel_requirements.append(total_panels_required)\n",
    "\n",
    "# Convert results to numpy arrays\n",
    "net_power_results = np.array(net_power_results)\n",
    "panel_requirements = np.array(panel_requirements)\n",
    "\n",
    "# Plot histogram of panel requirements\n",
    "plt.hist(panel_requirements, bins=50, alpha=0.7, color='green', edgecolor='black')\n",
    "plt.xlabel(\"Number of Panels Required Over 30 Years\")\n",
    "plt.ylabel(\"Frequency\")\n",
    "plt.title(\"Monte Carlo Simulation: Panel Requirements Distribution\")\n",
    "plt.show()\n",
    "\n",
    "print(f'Estimated Mean Panels Required: {np.mean(panel_requirements)}')\n",
    "print(f'Estimated 95% Confidence Interval: {np.percentile(panel_requirements,2.5):.2f} - {np.percentile(panel_requirements,97.5):.2f}')"
   ]
  },
  {
   "cell_type": "code",
   "execution_count": null,
   "metadata": {},
   "outputs": [],
   "source": []
  }
 ],
 "metadata": {
  "kernelspec": {
   "display_name": "Python 3",
   "language": "python",
   "name": "python3"
  },
  "language_info": {
   "codemirror_mode": {
    "name": "ipython",
    "version": 3
   },
   "file_extension": ".py",
   "mimetype": "text/x-python",
   "name": "python",
   "nbconvert_exporter": "python",
   "pygments_lexer": "ipython3",
   "version": "3.12.2"
  }
 },
 "nbformat": 4,
 "nbformat_minor": 2
}
